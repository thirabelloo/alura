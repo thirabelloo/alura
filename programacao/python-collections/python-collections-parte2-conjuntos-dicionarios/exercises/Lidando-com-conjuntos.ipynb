{
 "cells": [
  {
   "cell_type": "markdown",
   "metadata": {},
   "source": [
    "## Lidando com conjunto\n",
    "\n",
    "Marcela está desenvolvendo um ecommerce que contém apenas 6 usuários cadastrados. Portanto, como não há repetição de números dentro de um conjunto, ela criou um conjunto de dados e cadastrou os usuários conforme o ID.\n",
    "\n",
    "``usuarios = {1,5,76,34,52,13}``\n",
    "\n",
    "\n",
    "Então foi solicitado para que Marcela adicione um novo usuário com o ID 7, neste conjunto.\n",
    "\n",
    "Como ela pode fazer isto?"
   ]
  },
  {
   "cell_type": "code",
   "execution_count": 1,
   "metadata": {},
   "outputs": [
    {
     "data": {
      "text/plain": [
       "{1, 5, 7, 13, 34, 52, 76}"
      ]
     },
     "execution_count": 1,
     "metadata": {},
     "output_type": "execute_result"
    }
   ],
   "source": [
    "usuarios = {1, 5, 76, 34, 52, 13}\n",
    "usuarios.add(7)\n",
    "usuarios"
   ]
  },
  {
   "cell_type": "code",
   "execution_count": null,
   "metadata": {},
   "outputs": [],
   "source": []
  }
 ],
 "metadata": {
  "kernelspec": {
   "display_name": "venv",
   "language": "python",
   "name": "python3"
  },
  "language_info": {
   "codemirror_mode": {
    "name": "ipython",
    "version": 3
   },
   "file_extension": ".py",
   "mimetype": "text/x-python",
   "name": "python",
   "nbconvert_exporter": "python",
   "pygments_lexer": "ipython3",
   "version": "3.12.3"
  }
 },
 "nbformat": 4,
 "nbformat_minor": 2
}
