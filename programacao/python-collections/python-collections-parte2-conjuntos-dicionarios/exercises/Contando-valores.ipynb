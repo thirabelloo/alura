{
 "cells": [
  {
   "cell_type": "markdown",
   "metadata": {},
   "source": [
    "## Contando valores\n",
    "\n",
    "Conforme aprendemos em aula, é possível fazer a contagem de palavras, utilizando o default dict e o Counter para contar valores.\n",
    "\n",
    "Como podemos contar as aparições de cada palavra da seguinte frase?\n",
    "\n",
    "    texto = \"Bem vindo meu nome é Elias irei falar sobre os meus gostos eu gosto muito de cachorros e gatos eu gosto também de beber café\"\n",
    "    texto = texto.lower()\n"
   ]
  },
  {
   "cell_type": "code",
   "execution_count": 2,
   "metadata": {},
   "outputs": [
    {
     "data": {
      "text/plain": [
       "'bem vindo meu nome eh elias irei falar sobre os meus gostos eu gosto muito de cachorros e gatos tambem de beber cafe'"
      ]
     },
     "execution_count": 2,
     "metadata": {},
     "output_type": "execute_result"
    }
   ],
   "source": [
    "texto = \"Bem vindo meu nome eh Elias irei falar sobre os meus gostos eu gosto muito de cachorros e gatos tambem de beber cafe\"\n",
    "texto = texto.lower()\n",
    "texto"
   ]
  },
  {
   "cell_type": "code",
   "execution_count": 3,
   "metadata": {},
   "outputs": [
    {
     "data": {
      "text/plain": [
       "Counter({'de': 2,\n",
       "         'bem': 1,\n",
       "         'vindo': 1,\n",
       "         'meu': 1,\n",
       "         'nome': 1,\n",
       "         'eh': 1,\n",
       "         'elias': 1,\n",
       "         'irei': 1,\n",
       "         'falar': 1,\n",
       "         'sobre': 1,\n",
       "         'os': 1,\n",
       "         'meus': 1,\n",
       "         'gostos': 1,\n",
       "         'eu': 1,\n",
       "         'gosto': 1,\n",
       "         'muito': 1,\n",
       "         'cachorros': 1,\n",
       "         'e': 1,\n",
       "         'gatos': 1,\n",
       "         'tambem': 1,\n",
       "         'beber': 1,\n",
       "         'cafe': 1})"
      ]
     },
     "execution_count": 3,
     "metadata": {},
     "output_type": "execute_result"
    }
   ],
   "source": [
    "from collections import Counter\n",
    "\n",
    "aparicoes = Counter(texto.split())\n",
    "aparicoes"
   ]
  },
  {
   "cell_type": "code",
   "execution_count": null,
   "metadata": {},
   "outputs": [],
   "source": []
  }
 ],
 "metadata": {
  "kernelspec": {
   "display_name": "venv",
   "language": "python",
   "name": "python3"
  },
  "language_info": {
   "codemirror_mode": {
    "name": "ipython",
    "version": 3
   },
   "file_extension": ".py",
   "mimetype": "text/x-python",
   "name": "python",
   "nbconvert_exporter": "python",
   "pygments_lexer": "ipython3",
   "version": "3.12.3"
  }
 },
 "nbformat": 4,
 "nbformat_minor": 2
}
