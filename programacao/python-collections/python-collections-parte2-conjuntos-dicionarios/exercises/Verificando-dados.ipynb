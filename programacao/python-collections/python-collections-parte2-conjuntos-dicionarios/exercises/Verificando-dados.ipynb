{
 "cells": [
  {
   "cell_type": "markdown",
   "metadata": {},
   "source": [
    "## Verificando dados\n",
    "\n",
    "Fomos chamados para verificar os dados das pessoas que fizeram o curso de data science e machine learning, com a finalidade de identificar as pessoas que estão assistindo os dois cursos. Então vamos analisar o seguinte conjunto:\n",
    "\n",
    "        usuarios_data_science = {15, 23, 43, 56}\n",
    "        usuarios_machine_learning = {13, 23, 56, 42}"
   ]
  },
  {
   "cell_type": "code",
   "execution_count": 1,
   "metadata": {},
   "outputs": [
    {
     "data": {
      "text/plain": [
       "{23, 56}"
      ]
     },
     "execution_count": 1,
     "metadata": {},
     "output_type": "execute_result"
    }
   ],
   "source": [
    "usuarios_data_science = {15, 23, 43, 56}\n",
    "usuarios_machine_learning = {13, 23, 56, 42}\n",
    "\n",
    "usuarios_data_science & usuarios_machine_learning"
   ]
  }
 ],
 "metadata": {
  "kernelspec": {
   "display_name": "venv",
   "language": "python",
   "name": "python3"
  },
  "language_info": {
   "codemirror_mode": {
    "name": "ipython",
    "version": 3
   },
   "file_extension": ".py",
   "mimetype": "text/x-python",
   "name": "python",
   "nbconvert_exporter": "python",
   "pygments_lexer": "ipython3",
   "version": "3.12.3"
  }
 },
 "nbformat": 4,
 "nbformat_minor": 2
}
