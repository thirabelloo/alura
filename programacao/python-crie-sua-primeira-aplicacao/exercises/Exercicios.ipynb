{
 "cells": [
  {
   "cell_type": "code",
   "execution_count": null,
   "metadata": {},
   "outputs": [],
   "source": []
  },
  {
   "cell_type": "markdown",
   "metadata": {},
   "source": [
    "## Impressão de descrições de produtos"
   ]
  },
  {
   "cell_type": "markdown",
   "metadata": {},
   "source": [
    "Imagine que você está desenvolvendo em Python para a Meteora, uma loja de roupas e-commerce. Você está no processo de adicionar descrições de produtos ao site e precisa usar a função print em python para exibir as descrições na página. As descrições dos produtos incluem várias linhas e parágrafos.\n",
    "\n",
    "Quais das seguintes opções você escolheria para imprimir corretamente uma descrição de produto de várias linhas usando a função print em Python?"
   ]
  },
  {
   "cell_type": "code",
   "execution_count": 1,
   "metadata": {},
   "outputs": [
    {
     "name": "stdout",
     "output_type": "stream",
     "text": [
      "Camiseta Unissex\n",
      "Tamanho: P, M, G, GG\n",
      "Material: 100% algodão\n",
      "Cores disponíveis: Preto, Branco, Vermelho\n"
     ]
    }
   ],
   "source": [
    "print(\n",
    "    \"\"\"Camiseta Unissex\n",
    "Tamanho: P, M, G, GG\n",
    "Material: 100% algodão\n",
    "Cores disponíveis: Preto, Branco, Vermelho\"\"\"\n",
    ")"
   ]
  },
  {
   "cell_type": "code",
   "execution_count": 2,
   "metadata": {},
   "outputs": [
    {
     "name": "stdout",
     "output_type": "stream",
     "text": [
      "Camiseta Unissex\n",
      "Tamanho: P, M, G, GG\n",
      "Material: 100% algodão\n",
      "Cores disponíveis: Preto, Branco, Vermelho\n"
     ]
    }
   ],
   "source": [
    "print(\n",
    "    \"Camiseta Unissex\",\n",
    "    \"Tamanho: P, M, G, GG\",\n",
    "    \"Material: 100% algodão\",\n",
    "    \"Cores disponíveis: Preto, Branco, Vermelho\",\n",
    "    sep=\"\\n\",\n",
    ")"
   ]
  },
  {
   "cell_type": "markdown",
   "metadata": {},
   "source": [
    "----------------"
   ]
  },
  {
   "cell_type": "markdown",
   "metadata": {},
   "source": [
    "## Aplicando print e input"
   ]
  },
  {
   "cell_type": "markdown",
   "metadata": {},
   "source": [
    "Imagine que você está trabalhando na Organo, uma plataforma de organogramas para empresas. Você foi designado para criar um simples script em Python que coleta o nome de um departamento e o nome da pessoa responsável por ele, para depois imprimir uma mensagem personalizada.\n",
    "\n",
    "Qual trecho de código em Python abaixo irá corretamente coletar as informações e imprimir a mensagem desejada, seguindo o formato: \"O departamento de [Departamento] é liderado por [Responsável].\"?"
   ]
  },
  {
   "cell_type": "code",
   "execution_count": 3,
   "metadata": {},
   "outputs": [
    {
     "name": "stdout",
     "output_type": "stream",
     "text": [
      "O departamento de Roupa é liderado por Thomas.\n"
     ]
    }
   ],
   "source": [
    "departamento = input(\"Digite o nome do departamento: \")\n",
    "responsavel = input(\"Digite o nome da pessoa responsável: \")\n",
    "print(\"O departamento de \" + departamento + \" é liderado por \" + responsavel + \".\")"
   ]
  },
  {
   "cell_type": "markdown",
   "metadata": {},
   "source": [
    "------"
   ]
  },
  {
   "cell_type": "markdown",
   "metadata": {},
   "source": [
    "## Funções e fluxos no universo do Streaming"
   ]
  },
  {
   "cell_type": "markdown",
   "metadata": {},
   "source": [
    "Imagine que você está desenvolvendo um projeto para um serviço de streaming de música. Sua tarefa é melhorar o algoritmo de recomendação de músicas, garantindo que os usuários recebam sugestões mais precisas com base em seus gêneros favoritos. Para isso, você precisa criar uma função em Python que classifique as sugestões de músicas utilizando estruturas condicionais if, else e elif.\n",
    "\n",
    "No processo de desenvolvimento, você escreveu a seguinte função para classificar uma música como 'recomendada', 'neutra' ou 'não recomendada' com base na preferência do gênero musical do usuário:"
   ]
  },
  {
   "cell_type": "code",
   "execution_count": 4,
   "metadata": {},
   "outputs": [
    {
     "name": "stdout",
     "output_type": "stream",
     "text": [
      "neutra\n"
     ]
    }
   ],
   "source": [
    "def classificar_musica(genero_favorito, genero_musica):\n",
    "    if genero_favorito == genero_musica:\n",
    "        return \"recomendada\"\n",
    "    elif genero_favorito == \"Pop\" or genero_favorito == \"Rock\":\n",
    "        return \"neutra\"\n",
    "    else:\n",
    "        return \"não recomendada\"\n",
    "\n",
    "\n",
    "resultado = classificar_musica(\"Rock\", \"Pop\")\n",
    "print(resultado)"
   ]
  },
  {
   "cell_type": "markdown",
   "metadata": {},
   "source": [
    "------"
   ]
  },
  {
   "cell_type": "markdown",
   "metadata": {},
   "source": [
    "## Compreendendo condicionais"
   ]
  },
  {
   "cell_type": "markdown",
   "metadata": {},
   "source": [
    "Imagine que você está desenvolvendo um aplicativo chamado Fokus, inspirado na técnica Pomodoro de gerenciamento de tempo. O objetivo do Fokus é ajudar as pessoas a se concentrarem em suas tarefas usando períodos de trabalho focados intercalados com breves intervalos. Uma característica importante do seu aplicativo é permitir que o usuário escolha o tempo de foco e o tempo de pausa.\n",
    "\n",
    "Você precisa escrever uma função que pergunte ao usuário quanto tempo deseja configurar para o período de foco e, em seguida, use condicionais para verificar se o tempo inserido está dentro de um intervalo aceitável (por exemplo, entre 25 e 45 minutos).\n",
    "\n",
    "Qual das seguintes implementações da função `configurar_tempo_foco` está correta e segue as melhores práticas aprendidas no curso?"
   ]
  },
  {
   "cell_type": "code",
   "execution_count": 5,
   "metadata": {},
   "outputs": [],
   "source": [
    "def configurar_tempo_foco():\n",
    "    tempo = int(input(\"Digite o tempo de foco (25-45 min): \"))\n",
    "    if tempo < 25:\n",
    "        print(\"Valor muito baixo. Configure um tempo maior ou igual a 25 minutos.\")\n",
    "    elif tempo > 45:\n",
    "        print(\"Valor muito alto. Configure um tempo menor ou igual a 45 minutos.\")\n",
    "    else:\n",
    "        print(\"Tempo configurado para\", tempo, \"minutos.\")"
   ]
  },
  {
   "cell_type": "code",
   "execution_count": 6,
   "metadata": {},
   "outputs": [],
   "source": [
    "def configurar_tempo_foco():\n",
    "    tempo = int(input(\"Digite o tempo de foco (25-45 min): \"))\n",
    "    if 25 <= tempo <= 45:\n",
    "        print(\"Tempo configurado para\", tempo, \"minutos.\")\n",
    "    else:\n",
    "        print(\"Valor inválido. Configure um tempo entre 25 e 45 minutos.\")"
   ]
  },
  {
   "cell_type": "markdown",
   "metadata": {},
   "source": [
    "-----"
   ]
  },
  {
   "cell_type": "markdown",
   "metadata": {},
   "source": [
    "## Avaliando listas e iterações"
   ]
  },
  {
   "cell_type": "markdown",
   "metadata": {},
   "source": [
    "Você está criando seu portfólio para mostrar seus projetos de Python. Para isso, você quer incluir uma seção que destaque suas habilidades com listas, loops for e tratamento de exceções, mas quer garantir que mesmo que algum dado esteja ausente, seu portfólio não quebre.\n",
    "\n",
    "Analise o código abaixo e julgue as opções, selecionando a que melhor implementa o uso de listas, blocos for ou try except."
   ]
  },
  {
   "cell_type": "code",
   "execution_count": 7,
   "metadata": {},
   "outputs": [
    {
     "name": "stdout",
     "output_type": "stream",
     "text": [
      "Projeto: website\n",
      "Projeto: jogo\n",
      "Projeto: análise de dados\n",
      "Projeto não disponível.\n",
      "Projeto: aplicativo móvel\n"
     ]
    }
   ],
   "source": [
    "projetos = [\"website\", \"jogo\", \"análise de dados\", None, \"aplicativo móvel\"]\n",
    "\n",
    "for projeto in projetos:\n",
    "    if projeto:\n",
    "        print(f\"Projeto: {projeto}\")\n",
    "    else:\n",
    "        print(\"Projeto não disponível.\")"
   ]
  },
  {
   "cell_type": "markdown",
   "metadata": {},
   "source": [
    "---"
   ]
  },
  {
   "cell_type": "markdown",
   "metadata": {},
   "source": [
    "## Interpretando listas e erros"
   ]
  },
  {
   "cell_type": "markdown",
   "metadata": {},
   "source": [
    "Imagine que você é um desenvolvedor na Hermex Log, uma empresa de logística especializada em serviços de entrega. Sua tarefa é criar um sistema para gerenciar as encomendas, onde cada encomenda deve ser armazenada em uma lista. Durante o desenvolvimento, você percebe a importância de validar as entradas no sistema para evitar interrupções inesperadas devido a erros de dados.\n",
    "\n",
    "Considerando o contexto apresentado, qual trecho de código Python representa corretamente a criação de uma lista de encomendas e a iteração segura sobre ela, tratando possíveis erros de entrada?"
   ]
  },
  {
   "cell_type": "code",
   "execution_count": 7,
   "metadata": {},
   "outputs": [
    {
     "name": "stdout",
     "output_type": "stream",
     "text": [
      "1\n",
      "2\n",
      "3\n",
      "4\n"
     ]
    }
   ],
   "source": [
    "encomendas = input(\"Digite os números das encomendas separados por vírgula: \").split(\n",
    "    \",\"\n",
    ")\n",
    "try:\n",
    "    for encomenda in encomendas:\n",
    "        print(int(encomenda))\n",
    "except ValueError:\n",
    "    print(\"Uma das entradas não é um número válido.\")"
   ]
  },
  {
   "cell_type": "markdown",
   "metadata": {},
   "source": [
    "----"
   ]
  },
  {
   "cell_type": "markdown",
   "metadata": {},
   "source": [
    "## Interpretando dicionarios"
   ]
  },
  {
   "cell_type": "markdown",
   "metadata": {},
   "source": [
    "Imagine que você está desenvolvendo o sistema de backend para o \"Buscante\", um e-commerce especializado na venda de livros. Neste sistema, você utiliza dicionários para armazenar informações sobre os livros disponíveis, com chaves representando características como título, autor e ISBN, e os valores associados a cada uma dessas chaves.\n",
    "\n",
    "Analise o seguinte dicionário que representa um livro no seu sistema:"
   ]
  },
  {
   "cell_type": "code",
   "execution_count": 1,
   "metadata": {},
   "outputs": [],
   "source": [
    "livro = {\n",
    "    \"titulo\": \"Aprendendo Python\",\n",
    "    \"autor\": \"Fabrício Silva\",\n",
    "    \"ISBN\": \"12345\",\n",
    "    \"preco\": 59.90,\n",
    "    \"em_estoque\": True,\n",
    "}"
   ]
  },
  {
   "cell_type": "markdown",
   "metadata": {},
   "source": [
    "Como você faria o acesso ao preço do livro e atualizaria o valor para `69.90` utilizando o que aprendeu sobre dicionários?"
   ]
  },
  {
   "cell_type": "code",
   "execution_count": 2,
   "metadata": {},
   "outputs": [],
   "source": [
    "livro[\"preco\"] = 69.90"
   ]
  },
  {
   "cell_type": "code",
   "execution_count": 3,
   "metadata": {},
   "outputs": [],
   "source": [
    "livro.update({\"preco\": 69.90})"
   ]
  },
  {
   "cell_type": "markdown",
   "metadata": {},
   "source": [
    "----"
   ]
  },
  {
   "cell_type": "markdown",
   "metadata": {},
   "source": [
    "## Decifrando dicionários com ternários"
   ]
  },
  {
   "cell_type": "markdown",
   "metadata": {},
   "source": [
    "Imagine que você está trabalhando na Techsafe, uma empresa especializada em segurança tecnológica. Sua liderança pediu para você revisar um trecho de código em Python que utiliza dicionários para armazenar dados sensíveis dos clientes. O objetivo é garantir que o uso de dicionários e operadores ternários esteja correto para otimizar a performance e a legibilidade do código. Dada a seguinte estrutura de dicionário:"
   ]
  },
  {
   "cell_type": "code",
   "execution_count": 4,
   "metadata": {},
   "outputs": [],
   "source": [
    "credenciais_clientes = {\n",
    "    \"alice123\": {\n",
    "        \"username\": \"alice123\",\n",
    "        \"password\": \"alic3P@ssw0rd\",\n",
    "        \"status\": \"active\",\n",
    "    },\n",
    "    \"bob456\": {\"username\": \"bob456\", \"password\": \"b0bP@ssword!\", \"status\": \"inactive\"},\n",
    "    \"charlie789\": {\n",
    "        \"username\": \"charlie789\",\n",
    "        \"password\": \"Ch@rlieP@ss9\",\n",
    "        \"status\": \"active\",\n",
    "    },\n",
    "}"
   ]
  },
  {
   "cell_type": "markdown",
   "metadata": {},
   "source": [
    "Você deseja verificar o status de um usuário chamado 'bob456' e, caso esteja inativo, enviar um alerta. Qual seria o código correto para realizar essa ação utilizando um operador ternário?"
   ]
  },
  {
   "cell_type": "code",
   "execution_count": 5,
   "metadata": {},
   "outputs": [],
   "source": [
    "alerta = (\n",
    "    \"Enviar alerta!\"\n",
    "    if credenciais_clientes[\"bob456\"][\"status\"] == \"inactive\"\n",
    "    else \"Sem alerta\"\n",
    ")"
   ]
  },
  {
   "cell_type": "markdown",
   "metadata": {},
   "source": [
    "----"
   ]
  },
  {
   "cell_type": "markdown",
   "metadata": {},
   "source": [
    "## Avaliacao de docstrings"
   ]
  },
  {
   "cell_type": "markdown",
   "metadata": {},
   "source": [
    "Você está desenvolvendo o aplicativo Cookin'UP, um projeto colaborativo de código aberto que visa ajudar pessoas apaixonadas por culinária a encontrar novas receitas e restaurantes. Para garantir a sustentabilidade e manutenção do projeto, é crucial uma documentação clara e completa. Como parte da equipe de desenvolvimento, você foi designado(a) para revisar docstrings do código Python do aplicativo, assegurando que elas estão de acordo com as melhores práticas da linguagem.\n",
    "\n",
    "Enquanto revisa o código, você encontra a seguinte função"
   ]
  },
  {
   "cell_type": "code",
   "execution_count": 8,
   "metadata": {},
   "outputs": [],
   "source": [
    "def buscar_receitas_por_categoria(categoria):\n",
    "    \"\"\"\n",
    "    Busca receitas por categoria e retorna uma lista de receitas\n",
    "\n",
    "    Argumentos:\n",
    "        categoria (str): A categoria da receita desejada\n",
    "\n",
    "    Retorna:\n",
    "        list: Uma lista contendo as receitas da categoria especificada\n",
    "    \"\"\"\n",
    "    # Código omitido para brevidade\n",
    "    pass"
   ]
  },
  {
   "cell_type": "markdown",
   "metadata": {},
   "source": [
    "A docstring está adequada, pois descreve claramente o propósito, os argumentos e o que é retornado pela função."
   ]
  },
  {
   "cell_type": "markdown",
   "metadata": {},
   "source": [
    "---"
   ]
  },
  {
   "cell_type": "markdown",
   "metadata": {},
   "source": [
    "## Documentando funcoes no app de culinaria"
   ]
  },
  {
   "cell_type": "markdown",
   "metadata": {},
   "source": [
    "Imagine que você está colaborando em um projeto de código aberto chamado Cookin'UP, um aplicativo de culinária que permite aos usuários explorar e compartilhar receitas. O projeto é uma iniciativa comunitária e conta com a participação de devs de diferentes níveis de experiência. Para garantir a clareza e a manutenção do código, é crucial que todas as funções estejam bem documentadas usando docstrings.\n",
    "\n",
    "Você foi designado para revisar o código e percebeu que uma função crucial para a funcionalidade do aplicativo não tem uma docstring apropriada, como mostrada no código a seguir:"
   ]
  },
  {
   "cell_type": "code",
   "execution_count": 10,
   "metadata": {},
   "outputs": [],
   "source": [
    "def buscar_receita_por_ingrediente(ingrediente):\n",
    "    # Sua docstring aqui\n",
    "    # ... (código da função cosinderando  Argumentos de entrada, ex: categoria (str) e Retorno de saída ex: list\n",
    "    pass"
   ]
  },
  {
   "cell_type": "markdown",
   "metadata": {},
   "source": [
    "Como você redige uma docstring para a função `buscar_receita_por_ingrediente` que busca receitas baseadas em um ingrediente fornecido pelo usuário?"
   ]
  },
  {
   "cell_type": "markdown",
   "metadata": {},
   "source": [
    "\"\"\"Retorna uma lista de receitas que contêm o ingrediente fornecido.\"\"\" "
   ]
  },
  {
   "cell_type": "markdown",
   "metadata": {},
   "source": []
  }
 ],
 "metadata": {
  "kernelspec": {
   "display_name": "venv",
   "language": "python",
   "name": "python3"
  },
  "language_info": {
   "codemirror_mode": {
    "name": "ipython",
    "version": 3
   },
   "file_extension": ".py",
   "mimetype": "text/x-python",
   "name": "python",
   "nbconvert_exporter": "python",
   "pygments_lexer": "ipython3",
   "version": "3.12.3"
  }
 },
 "nbformat": 4,
 "nbformat_minor": 2
}
