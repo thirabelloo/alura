{
 "cells": [
  {
   "cell_type": "markdown",
   "metadata": {},
   "source": [
    "## Exercicios Capitulo 1"
   ]
  },
  {
   "cell_type": "markdown",
   "metadata": {},
   "source": [
    "1 - Imprima a frase: `Python na Escola de Programação da Alura.`"
   ]
  },
  {
   "cell_type": "code",
   "execution_count": 12,
   "metadata": {},
   "outputs": [
    {
     "name": "stdout",
     "output_type": "stream",
     "text": [
      "Python na Escola de Programacao da Alura.\n"
     ]
    }
   ],
   "source": [
    "def imprime_mensagem(texto: str) -> None:\n",
    "    \"\"\"Imprime a mensagem fornecida.\"\"\"\n",
    "    return print(texto)\n",
    "\n",
    "\n",
    "mensagem = \"Python na Escola de Programacao da Alura.\"\n",
    "imprime_mensagem(mensagem)"
   ]
  },
  {
   "cell_type": "markdown",
   "metadata": {},
   "source": [
    "------"
   ]
  },
  {
   "cell_type": "markdown",
   "metadata": {},
   "source": [
    "2 - Imprima a frase: `Meu nome é {nome} e tenho {idade} anos` em que nome e idade precisam ser valores armazenados em variáveis."
   ]
  },
  {
   "cell_type": "code",
   "execution_count": 5,
   "metadata": {},
   "outputs": [
    {
     "name": "stdout",
     "output_type": "stream",
     "text": [
      "Meu nome eh Thiago e tenho 20 anos.\n"
     ]
    }
   ],
   "source": [
    "def obter_nome():\n",
    "    nome = input(\"Qual o seu nome:\")\n",
    "    if nome.isdigit():\n",
    "        print(\"Erro: O nome nao pode ser numeros, apenas letras.\")\n",
    "        return \"Nome invalido\"\n",
    "    return nome.lower().title()\n",
    "\n",
    "\n",
    "def obter_idade():\n",
    "    idade = input(\"Qual a sua idade:\")\n",
    "    if not idade.isdigit():\n",
    "        print(\"Erro: A idade deve ser um número.\")\n",
    "        return \"Idade invalida\"\n",
    "    idade = int(idade)\n",
    "    if idade < 1 or idade > 100:\n",
    "        print(\"Erro: A idade deve estar entre 1 e 100.\")\n",
    "        return \"Idade Invalida\"\n",
    "    return idade\n",
    "\n",
    "\n",
    "def validador_saida(nome, idade):\n",
    "    if nome == \"Nome invalido\" or idade == \"Idade Invalida\":\n",
    "        return False\n",
    "    return True\n",
    "\n",
    "\n",
    "def imprime_mensagem():\n",
    "    nome = obter_nome()\n",
    "    idade = obter_idade()\n",
    "    if not validador_saida(nome, idade):\n",
    "        print(\"Nao foi possivel obter as informacoes corretamente\")\n",
    "    else:\n",
    "        print(f\"Meu nome eh {nome} e tenho {idade} anos.\")\n",
    "\n",
    "\n",
    "imprime_mensagem()"
   ]
  },
  {
   "cell_type": "markdown",
   "metadata": {},
   "source": [
    "-------------"
   ]
  },
  {
   "cell_type": "markdown",
   "metadata": {},
   "source": [
    "3 - Imprima a palavra: `‘ALURA’` de modo que cada letra fique em uma linha, como mostrado a seguir:"
   ]
  },
  {
   "cell_type": "code",
   "execution_count": 45,
   "metadata": {},
   "outputs": [
    {
     "name": "stdout",
     "output_type": "stream",
     "text": [
      "A\n",
      "L\n",
      "U\n",
      "R\n",
      "A\n"
     ]
    }
   ],
   "source": [
    "def recebe_palavra(palavra):\n",
    "    if not isinstance(palavra, str):\n",
    "        print(\"A mensagem deve ser no formato de texto\")\n",
    "        return None\n",
    "    for letra in palavra:\n",
    "        print(letra.upper())\n",
    "\n",
    "\n",
    "palavra = \"alura\"\n",
    "recebe_palavra(palavra)"
   ]
  },
  {
   "cell_type": "markdown",
   "metadata": {},
   "source": [
    "------"
   ]
  },
  {
   "cell_type": "markdown",
   "metadata": {},
   "source": [
    "4 - Imprima a frase: `O valor arredondado de pi é: {pi_arredondado}` em que o valor de pi precisa ser armazenado em uma variável e arredondado para apenas duas casas decimais."
   ]
  },
  {
   "cell_type": "code",
   "execution_count": 4,
   "metadata": {},
   "outputs": [
    {
     "name": "stdout",
     "output_type": "stream",
     "text": [
      "O valor arredondado de pi eh: 3.14\n"
     ]
    }
   ],
   "source": [
    "def arrendonda_valor_pi(numero_pi):\n",
    "    if not isinstance(numero_pi, float):\n",
    "        raise ValueError(\"Erro: A entrada deve ser um número decimal (float)\")\n",
    "    print(f\"O valor arredondado de pi eh: {numero_pi:.2f}\")\n",
    "\n",
    "\n",
    "pi = 3.14159\n",
    "\n",
    "arrendonda_valor_pi(pi)"
   ]
  },
  {
   "cell_type": "code",
   "execution_count": 53,
   "metadata": {},
   "outputs": [
    {
     "name": "stdout",
     "output_type": "stream",
     "text": [
      "O valor arredondado de pi eh: 3.14\n"
     ]
    }
   ],
   "source": [
    "import math\n",
    "\n",
    "\n",
    "def arrendonda_valor_pi():\n",
    "    pi = 3.14159\n",
    "    print(f\"O valor arredondado de pi eh: {round(pi,2)}\")\n",
    "\n",
    "\n",
    "arrendonda_valor_pi()"
   ]
  }
 ],
 "metadata": {
  "kernelspec": {
   "display_name": "venv",
   "language": "python",
   "name": "python3"
  },
  "language_info": {
   "codemirror_mode": {
    "name": "ipython",
    "version": 3
   },
   "file_extension": ".py",
   "mimetype": "text/x-python",
   "name": "python",
   "nbconvert_exporter": "python",
   "pygments_lexer": "ipython3",
   "version": "3.12.3"
  }
 },
 "nbformat": 4,
 "nbformat_minor": 2
}
