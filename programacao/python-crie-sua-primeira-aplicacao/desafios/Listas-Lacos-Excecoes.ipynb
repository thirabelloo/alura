{
 "cells": [
  {
   "cell_type": "markdown",
   "metadata": {},
   "source": [
    "## Exercicios Capitulo 3"
   ]
  },
  {
   "cell_type": "markdown",
   "metadata": {},
   "source": [
    "1 - Crie uma lista para cada informação a seguir:\n",
    "\n",
    "- Lista de números de 1 a 10;\n",
    "- Lista com quatro nomes;\n",
    "- Lista com o ano que você nasceu e o ano atual."
   ]
  },
  {
   "cell_type": "code",
   "execution_count": 80,
   "metadata": {},
   "outputs": [
    {
     "name": "stdout",
     "output_type": "stream",
     "text": [
      "[1, 2, 3, 4, 5, 6, 7, 8, 9, 10]\n",
      "['lucas', 'ana', 'renata', 'carlos']\n",
      "[1994, 2024]\n"
     ]
    }
   ],
   "source": [
    "lista_de_numeros = [1, 2, 3, 4, 5, 6, 7, 8, 9, 10]\n",
    "lista_de_nomes = [\"lucas\", \"ana\", \"renata\", \"carlos\"]\n",
    "lista_de_idade = [1994, 2024]\n",
    "print(lista_de_numeros)\n",
    "print(lista_de_nomes)\n",
    "print(lista_de_idade)"
   ]
  },
  {
   "cell_type": "markdown",
   "metadata": {},
   "source": [
    "------"
   ]
  },
  {
   "cell_type": "markdown",
   "metadata": {},
   "source": [
    "2 - Crie uma lista e utilize um loop for para percorrer todos os elementos da lista."
   ]
  },
  {
   "cell_type": "code",
   "execution_count": 81,
   "metadata": {},
   "outputs": [
    {
     "name": "stdout",
     "output_type": "stream",
     "text": [
      "Lucas\n",
      "Ana\n",
      "Renata\n",
      "Carlos\n"
     ]
    }
   ],
   "source": [
    "lista_de_nomes = [\"lucas\", \"ana\", \"renata\", \"carlos\"]\n",
    "\n",
    "\n",
    "def imprime_nomes(lista):\n",
    "    for nome in lista:\n",
    "        print(nome.title())\n",
    "\n",
    "\n",
    "imprime_nomes(lista_de_nomes)"
   ]
  },
  {
   "cell_type": "markdown",
   "metadata": {},
   "source": [
    "-------"
   ]
  },
  {
   "cell_type": "markdown",
   "metadata": {},
   "source": [
    "3 - Utilize um loop for para calcular a soma dos números ímpares de 1 a 10."
   ]
  },
  {
   "cell_type": "code",
   "execution_count": 84,
   "metadata": {},
   "outputs": [
    {
     "name": "stdout",
     "output_type": "stream",
     "text": [
      "49\n",
      "[1, 3, 5, 7, 9, 11, 13]\n"
     ]
    }
   ],
   "source": [
    "def soma_numeros_impares(inicio, final):\n",
    "    if not isinstance(inicio, int) or not isinstance(final, int):\n",
    "        raise ValueError(\"Erro: A entrada deve ser um número inteiro (inteiro)\")\n",
    "    soma = 0\n",
    "    lista = []\n",
    "    for numero in range(inicio, final + 1):\n",
    "        numero_par = numero % 2 == 0\n",
    "        if not numero_par:\n",
    "            lista.append(numero)\n",
    "            soma += numero\n",
    "    print(soma)\n",
    "    print(lista)\n",
    "\n",
    "\n",
    "soma_numeros_impares(1, 13)"
   ]
  },
  {
   "cell_type": "markdown",
   "metadata": {},
   "source": [
    "-------"
   ]
  },
  {
   "cell_type": "markdown",
   "metadata": {},
   "source": [
    "4 - Utilize um loop for para imprimir os números de 1 a 10 em ordem decrescente."
   ]
  },
  {
   "cell_type": "code",
   "execution_count": 184,
   "metadata": {},
   "outputs": [],
   "source": [
    "def imprime_numeros_descrecente(inicio, final):\n",
    "    if not isinstance(inicio, int) or not isinstance(final, int):\n",
    "        raise ValueError(\"Erro: A entrada deve ser um número inteiro\")\n",
    "    if inicio < final:\n",
    "        raise ValueError(\"Erro: O valor inicial deve ser maior que o valor final\")\n",
    "    for numero in range(inicio, final - 1, -1):\n",
    "        print(numero)"
   ]
  },
  {
   "cell_type": "code",
   "execution_count": 185,
   "metadata": {},
   "outputs": [
    {
     "name": "stdout",
     "output_type": "stream",
     "text": [
      "10\n",
      "9\n",
      "8\n",
      "7\n",
      "6\n",
      "5\n",
      "4\n",
      "3\n",
      "2\n",
      "1\n"
     ]
    }
   ],
   "source": [
    "imprime_numeros_descrecente(10, 1)"
   ]
  },
  {
   "cell_type": "markdown",
   "metadata": {},
   "source": [
    "-----------"
   ]
  },
  {
   "cell_type": "markdown",
   "metadata": {},
   "source": [
    "5 - Solicite ao usuário um número e, em seguida, utilize um loop for para imprimir a tabuada desse número, indo de 1 a 10."
   ]
  },
  {
   "cell_type": "code",
   "execution_count": 145,
   "metadata": {},
   "outputs": [],
   "source": [
    "def tabuada():\n",
    "    try:\n",
    "        numero = int(input(\"Digite um numero: \"))\n",
    "    except:\n",
    "        raise ValueError(\"Erro: A entrada deve ser um número inteiro\")\n",
    "    print(f\"O valor da tabuada do numero {numero}\")\n",
    "    for multiplicador in range(0, 11):\n",
    "        print(f\"{numero} x {multiplicador} = {multiplicador}\")"
   ]
  },
  {
   "cell_type": "code",
   "execution_count": 144,
   "metadata": {},
   "outputs": [
    {
     "name": "stdout",
     "output_type": "stream",
     "text": [
      "O valor da tabuada do numero 10\n",
      "10 x 0 = 0\n",
      "10 x 1 = 1\n",
      "10 x 2 = 2\n",
      "10 x 3 = 3\n",
      "10 x 4 = 4\n",
      "10 x 5 = 5\n",
      "10 x 6 = 6\n",
      "10 x 7 = 7\n",
      "10 x 8 = 8\n",
      "10 x 9 = 9\n",
      "10 x 10 = 10\n"
     ]
    }
   ],
   "source": [
    "tabuada()"
   ]
  },
  {
   "cell_type": "markdown",
   "metadata": {},
   "source": [
    "-----------"
   ]
  },
  {
   "cell_type": "markdown",
   "metadata": {},
   "source": [
    "6 - Crie uma lista de números e utilize um loop for para calcular a soma de todos os elementos. Utilize um bloco try-except para lidar com possíveis exceções."
   ]
  },
  {
   "cell_type": "code",
   "execution_count": 181,
   "metadata": {},
   "outputs": [
    {
     "data": {
      "text/plain": [
       "'A soma da lista eh 49'"
      ]
     },
     "execution_count": 181,
     "metadata": {},
     "output_type": "execute_result"
    }
   ],
   "source": [
    "def soma_lista(lista_numeros):\n",
    "    if not isinstance(lista_numeros, list):\n",
    "        raise ValueError(\"Erro: A entrada deve ser um número inteiro\")\n",
    "    try:\n",
    "        lista = sum(lista_numeros)\n",
    "        return f\"A soma da lista eh {lista}\"\n",
    "    except TypeError:\n",
    "        raise ValueError(\"Erro: Todos os elementos da lista devem ser números\")\n",
    "\n",
    "\n",
    "lista = [1, 3, 5, 7, 9, 11, 13]\n",
    "soma_lista(lista)"
   ]
  },
  {
   "cell_type": "markdown",
   "metadata": {},
   "source": [
    "----"
   ]
  },
  {
   "cell_type": "markdown",
   "metadata": {},
   "source": [
    "7 - Construa um código que calcule a média dos valores em uma lista. Utilize um bloco try-except para lidar com a divisão por zero, caso a lista esteja vazia."
   ]
  },
  {
   "cell_type": "code",
   "execution_count": 182,
   "metadata": {},
   "outputs": [
    {
     "data": {
      "text/plain": [
       "'A media da lista eh 7.0'"
      ]
     },
     "execution_count": 182,
     "metadata": {},
     "output_type": "execute_result"
    }
   ],
   "source": [
    "def calcula_media(lista_numeros):\n",
    "    if not isinstance(lista_numeros, list):\n",
    "        raise ValueError(\"Erro: A entrada deve ser uma lista de números\")\n",
    "    if not lista_numeros:\n",
    "        raise ZeroDivisionError(\"Erro: A lista está vazia\")\n",
    "    try:\n",
    "        media = sum(lista_numeros) / len(lista_numeros)\n",
    "        return f\"A media da lista eh {media}\"\n",
    "    except ZeroDivisionError:\n",
    "        raise ZeroDivisionError(\"Erro: A lista está vazia\")\n",
    "\n",
    "\n",
    "lista = [1, 3, 5, 7, 9, 11, 13]\n",
    "calcula_media(lista)"
   ]
  }
 ],
 "metadata": {
  "kernelspec": {
   "display_name": "venv",
   "language": "python",
   "name": "python3"
  },
  "language_info": {
   "codemirror_mode": {
    "name": "ipython",
    "version": 3
   },
   "file_extension": ".py",
   "mimetype": "text/x-python",
   "name": "python",
   "nbconvert_exporter": "python",
   "pygments_lexer": "ipython3",
   "version": "3.12.3"
  }
 },
 "nbformat": 4,
 "nbformat_minor": 2
}
