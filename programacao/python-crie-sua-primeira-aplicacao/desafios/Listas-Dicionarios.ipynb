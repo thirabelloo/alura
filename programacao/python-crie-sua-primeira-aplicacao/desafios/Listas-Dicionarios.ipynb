{
 "cells": [
  {
   "cell_type": "markdown",
   "metadata": {},
   "source": [
    "## Exercicios - Capitulo 4"
   ]
  },
  {
   "cell_type": "markdown",
   "metadata": {},
   "source": [
    "1 - Crie um dicionário representando informações sobre uma pessoa, como nome, idade e cidade."
   ]
  },
  {
   "cell_type": "code",
   "execution_count": 108,
   "metadata": {},
   "outputs": [
    {
     "data": {
      "text/plain": [
       "{'Nome': 'Thiago', 'Idade': 22, 'Cidade': 'SAO PAULO'}"
      ]
     },
     "execution_count": 108,
     "metadata": {},
     "output_type": "execute_result"
    }
   ],
   "source": [
    "def validar_nome(nome):\n",
    "    if not nome.isalpha():\n",
    "        raise ValueError(\"Erro: O nome deve conter apenas letras.\")\n",
    "    return nome.title().strip()\n",
    "\n",
    "\n",
    "def validar_idade(idade):\n",
    "    if not idade.isdigit() or int(idade) < 0:\n",
    "        raise ValueError(\"Erro: A idade deve ser um numero positivo.\")\n",
    "    return int(idade)\n",
    "\n",
    "\n",
    "def validar_cidade(cidade):\n",
    "    if not cidade.replace(\" \", \"\").isalpha():\n",
    "        raise ValueError(\"Erro: A cidade deve conter apenas letras e espaços.\")\n",
    "    return cidade.upper()\n",
    "\n",
    "\n",
    "def cadastro_pessoa():\n",
    "    while True:\n",
    "        try:\n",
    "            nome = validar_nome(input(\"Digite seu Nome: \"))\n",
    "            idade = validar_idade(input(\"Digite sua Idade: \"))\n",
    "            cidade = validar_cidade(input(\"Digite sua Cidade: \"))\n",
    "            pessoa = {\"Nome\": nome, \"Idade\": idade, \"Cidade\": cidade}\n",
    "            return pessoa\n",
    "        except ValueError as ve:\n",
    "            print(f\"Erro: {ve}. Tente novamente!\")\n",
    "\n",
    "\n",
    "cadastro_pessoa()"
   ]
  },
  {
   "cell_type": "markdown",
   "metadata": {},
   "source": [
    "---"
   ]
  },
  {
   "cell_type": "markdown",
   "metadata": {},
   "source": [
    "2 - Utilizando o dicionário criado no item 1:\n",
    "\n",
    "- Modifique o valor de um dos itens no dicionário (por exemplo, atualize a idade da pessoa);\n",
    "- Adicione um campo de profissão para essa pessoa;\n",
    "- Remova um item do dicionário."
   ]
  },
  {
   "cell_type": "code",
   "execution_count": 109,
   "metadata": {},
   "outputs": [],
   "source": [
    "def validar_dicionario(dicionario):\n",
    "    if not isinstance(dicionario, dict):\n",
    "        raise TypeError(\"Erro: O Dado deve ser um dicionario\")\n",
    "    return dicionario\n",
    "\n",
    "\n",
    "def validar_profissao(cargo):\n",
    "    if not cargo.isalpha():\n",
    "        raise ValueError(\"Erro: O cargo deve conter apenas letras.\")\n",
    "    return cargo.title().strip()\n",
    "\n",
    "\n",
    "def atualizar_dicionario(dicionario, chave, valor):\n",
    "    validar_dicionario(dicionario)\n",
    "    dicionario[chave] = valor\n",
    "    return dicionario\n",
    "\n",
    "\n",
    "def inserir_profissao(dicionario):\n",
    "    cargo = validar_profissao(input(\"Digite seu cargo: \"))\n",
    "    dicionario[\"Profissao\"] = cargo\n",
    "    return dicionario\n",
    "\n",
    "\n",
    "def deleta_item(dicionario, chave):\n",
    "    validar_dicionario(dicionario)\n",
    "    if chave in dicionario:\n",
    "        del dicionario[chave]\n",
    "    else:\n",
    "        raise KeyError(f\"Erro: A chave '{chave}' não existe no dicionário.\")\n",
    "    return dicionario"
   ]
  },
  {
   "cell_type": "code",
   "execution_count": 110,
   "metadata": {},
   "outputs": [
    {
     "data": {
      "text/plain": [
       "{'Nome': 'Thiago', 'Idade': 27, 'Cidade': 'SAO PAULO'}"
      ]
     },
     "execution_count": 110,
     "metadata": {},
     "output_type": "execute_result"
    }
   ],
   "source": [
    "dicionario_teste = {\"Nome\": \"Thiago\", \"Idade\": 22, \"Cidade\": \"SAO PAULO\"}\n",
    "\n",
    "# Atualizacao da idade\n",
    "atualizar_dicionario(dicionario_teste, \"Idade\", 27)"
   ]
  },
  {
   "cell_type": "code",
   "execution_count": 112,
   "metadata": {},
   "outputs": [
    {
     "data": {
      "text/plain": [
       "{'Nome': 'Thiago',\n",
       " 'Idade': 22,\n",
       " 'Cidade': 'SAO PAULO',\n",
       " 'Profissao': 'Engenheiro'}"
      ]
     },
     "execution_count": 112,
     "metadata": {},
     "output_type": "execute_result"
    }
   ],
   "source": [
    "dicionario_teste = {\"Nome\": \"Thiago\", \"Idade\": 22, \"Cidade\": \"SAO PAULO\"}\n",
    "\n",
    "# Adicionando uma Profissao\n",
    "inserir_profissao(dicionario_teste)"
   ]
  },
  {
   "cell_type": "code",
   "execution_count": 113,
   "metadata": {},
   "outputs": [
    {
     "data": {
      "text/plain": [
       "{'Nome': 'Thiago', 'Cidade': 'SAO PAULO', 'Profissao': 'Engenheiro'}"
      ]
     },
     "execution_count": 113,
     "metadata": {},
     "output_type": "execute_result"
    }
   ],
   "source": [
    "dicionario_teste = {\n",
    "    \"Nome\": \"Thiago\",\n",
    "    \"Idade\": 22,\n",
    "    \"Cidade\": \"SAO PAULO\",\n",
    "    \"Profissao\": \"Engenheiro\",\n",
    "}\n",
    "\n",
    "# Remocao de elemento\n",
    "deleta_item(dicionario_teste, \"Idade\")"
   ]
  },
  {
   "cell_type": "markdown",
   "metadata": {},
   "source": [
    "----"
   ]
  },
  {
   "cell_type": "markdown",
   "metadata": {},
   "source": [
    "3 - Crie um dicionário utilizando para representar números e seus quadrados de 1 a 5."
   ]
  },
  {
   "cell_type": "code",
   "execution_count": 74,
   "metadata": {},
   "outputs": [
    {
     "data": {
      "text/plain": [
       "{1: 1, 2: 4, 3: 9, 4: 16, 5: 25}"
      ]
     },
     "execution_count": 74,
     "metadata": {},
     "output_type": "execute_result"
    }
   ],
   "source": [
    "def dicionario_ao_quadrado(inicio, final):\n",
    "    if not isinstance(inicio, int) or not isinstance(final, int):\n",
    "        raise ValueError(\"Erro: A entrada deve ser um número inteiro\")\n",
    "    if inicio >= final:\n",
    "        raise ValueError(\"Erro: O valor inicial deve ser menor que o valor final\")\n",
    "    numeros = {x: x**2 for x in range(inicio, final)}\n",
    "    return numeros\n",
    "\n",
    "\n",
    "dicionario_ao_quadrado(1, 6)"
   ]
  },
  {
   "cell_type": "markdown",
   "metadata": {},
   "source": [
    "-----"
   ]
  },
  {
   "cell_type": "markdown",
   "metadata": {},
   "source": [
    "4 - Crie um dicionário e verifique se uma chave específica existe dentro desse dicionário."
   ]
  },
  {
   "cell_type": "code",
   "execution_count": 114,
   "metadata": {},
   "outputs": [],
   "source": [
    "def validar_dicionario(dicionario):\n",
    "    if not isinstance(dicionario, dict):\n",
    "        raise TypeError(\"Erro: O Dado deve ser um dicionario\")\n",
    "    return dicionario\n",
    "\n",
    "\n",
    "def verifica_dicionario(dicionario, chave):\n",
    "    validar_dicionario(dicionario)\n",
    "    if chave in dicionario:\n",
    "        return f\"A chave: '{chave}' existe nesse dicionario\"\n",
    "    else:\n",
    "        raise KeyError(f\"Erro: A chave '{chave}' não existe no dicionário.\")"
   ]
  },
  {
   "cell_type": "code",
   "execution_count": 115,
   "metadata": {},
   "outputs": [
    {
     "data": {
      "text/plain": [
       "\"A chave: 'Cidade' existe nesse dicionario\""
      ]
     },
     "execution_count": 115,
     "metadata": {},
     "output_type": "execute_result"
    }
   ],
   "source": [
    "dicionario_teste = {\n",
    "    \"Nome\": \"Thiago\",\n",
    "    \"Idade\": 25,\n",
    "    \"Cidade\": \"SAO PAULO\",\n",
    "    \"Profissao\": \"Engenheiro\",\n",
    "}\n",
    "verifica_dicionario(dicionario_teste, \"Cidade\")"
   ]
  },
  {
   "cell_type": "markdown",
   "metadata": {},
   "source": [
    "---"
   ]
  },
  {
   "cell_type": "markdown",
   "metadata": {},
   "source": [
    "5 - Escreva um código que conte a frequência de cada palavra em uma frase utilizando um dicionário."
   ]
  },
  {
   "cell_type": "code",
   "execution_count": 127,
   "metadata": {},
   "outputs": [],
   "source": [
    "def contador_letras(frase):\n",
    "    if not isinstance(frase, str):\n",
    "        raise TypeError(\"Erro: A frase deve ser uma string\")\n",
    "    contador_palavras = {}\n",
    "    for palavra in frase.split():\n",
    "        contador_palavras[palavra] = contador_palavras.get(palavra, 0) + 1\n",
    "    return contador_palavras"
   ]
  },
  {
   "cell_type": "code",
   "execution_count": 128,
   "metadata": {},
   "outputs": [
    {
     "data": {
      "text/plain": [
       "{'Faça': 1,\n",
       " 'como': 1,\n",
       " 'um': 1,\n",
       " 'programador.': 1,\n",
       " 'Quando': 1,\n",
       " 'tudo': 2,\n",
       " 'está': 1,\n",
       " 'errado': 1,\n",
       " 'e': 2,\n",
       " 'confuso,': 1,\n",
       " 'apague': 1,\n",
       " 'recomece': 1,\n",
       " 'do': 1,\n",
       " 'zero': 1}"
      ]
     },
     "execution_count": 128,
     "metadata": {},
     "output_type": "execute_result"
    }
   ],
   "source": [
    "frase = \"Faça como um programador. Quando tudo está errado e confuso, apague tudo e recomece do zero\"\n",
    "contador_letras(frase)"
   ]
  },
  {
   "cell_type": "code",
   "execution_count": 129,
   "metadata": {},
   "outputs": [
    {
     "data": {
      "text/plain": [
       "{'Buffalo': 3, 'buffalo': 5}"
      ]
     },
     "execution_count": 129,
     "metadata": {},
     "output_type": "execute_result"
    }
   ],
   "source": [
    "frase_repetida = \"Buffalo buffalo Buffalo buffalo buffalo buffalo Buffalo buffalo\"\n",
    "contador_letras(frase_repetida)"
   ]
  },
  {
   "cell_type": "code",
   "execution_count": 130,
   "metadata": {},
   "outputs": [
    {
     "ename": "TypeError",
     "evalue": "Erro: A frase deve ser uma string",
     "output_type": "error",
     "traceback": [
      "\u001b[1;31m---------------------------------------------------------------------------\u001b[0m",
      "\u001b[1;31mTypeError\u001b[0m                                 Traceback (most recent call last)",
      "Cell \u001b[1;32mIn[130], line 2\u001b[0m\n\u001b[0;32m      1\u001b[0m frase_error \u001b[38;5;241m=\u001b[39m \u001b[38;5;241m1\u001b[39m\n\u001b[1;32m----> 2\u001b[0m \u001b[43mcontador_letras\u001b[49m\u001b[43m(\u001b[49m\u001b[43mfrase_error\u001b[49m\u001b[43m)\u001b[49m\n",
      "Cell \u001b[1;32mIn[127], line 3\u001b[0m, in \u001b[0;36mcontador_letras\u001b[1;34m(frase)\u001b[0m\n\u001b[0;32m      1\u001b[0m \u001b[38;5;28;01mdef\u001b[39;00m \u001b[38;5;21mcontador_letras\u001b[39m(frase):\n\u001b[0;32m      2\u001b[0m     \u001b[38;5;28;01mif\u001b[39;00m \u001b[38;5;129;01mnot\u001b[39;00m \u001b[38;5;28misinstance\u001b[39m(frase, \u001b[38;5;28mstr\u001b[39m):\n\u001b[1;32m----> 3\u001b[0m         \u001b[38;5;28;01mraise\u001b[39;00m \u001b[38;5;167;01mTypeError\u001b[39;00m(\u001b[38;5;124m\"\u001b[39m\u001b[38;5;124mErro: A frase deve ser uma string\u001b[39m\u001b[38;5;124m\"\u001b[39m)\n\u001b[0;32m      4\u001b[0m     contador_palavras \u001b[38;5;241m=\u001b[39m {}\n\u001b[0;32m      5\u001b[0m     \u001b[38;5;28;01mfor\u001b[39;00m palavra \u001b[38;5;129;01min\u001b[39;00m frase\u001b[38;5;241m.\u001b[39msplit():\n",
      "\u001b[1;31mTypeError\u001b[0m: Erro: A frase deve ser uma string"
     ]
    }
   ],
   "source": [
    "frase_error = 1\n",
    "contador_letras(frase_error)"
   ]
  },
  {
   "cell_type": "code",
   "execution_count": null,
   "metadata": {},
   "outputs": [],
   "source": []
  }
 ],
 "metadata": {
  "kernelspec": {
   "display_name": "venv",
   "language": "python",
   "name": "python3"
  },
  "language_info": {
   "codemirror_mode": {
    "name": "ipython",
    "version": 3
   },
   "file_extension": ".py",
   "mimetype": "text/x-python",
   "name": "python",
   "nbconvert_exporter": "python",
   "pygments_lexer": "ipython3",
   "version": "3.12.3"
  }
 },
 "nbformat": 4,
 "nbformat_minor": 2
}
