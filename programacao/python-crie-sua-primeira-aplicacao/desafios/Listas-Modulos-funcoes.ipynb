{
 "cells": [
  {
   "cell_type": "markdown",
   "metadata": {},
   "source": [
    "## Exercicios Capitulo 2"
   ]
  },
  {
   "cell_type": "markdown",
   "metadata": {},
   "source": [
    "1 - Solicite ao usuário que insira um número e, em seguida, use uma estrutura `if else` para determinar se o número é par ou ímpar."
   ]
  },
  {
   "cell_type": "code",
   "execution_count": 2,
   "metadata": {},
   "outputs": [
    {
     "data": {
      "text/plain": [
       "'O numero 25 eh impar'"
      ]
     },
     "execution_count": 2,
     "metadata": {},
     "output_type": "execute_result"
    }
   ],
   "source": [
    "def verifica_par_impar():\n",
    "    try:\n",
    "        numero = int(input(\"Digite um numero: \"))\n",
    "        if numero % 2 == 0:\n",
    "            return f\"O numero {numero} eh par\"\n",
    "        else:\n",
    "            return f\"O numero {numero} eh impar\"\n",
    "    except ValueError:\n",
    "        return \"Erro: A entrada deve ser um  numero inteiro\"\n",
    "\n",
    "\n",
    "verifica_par_impar()"
   ]
  },
  {
   "cell_type": "markdown",
   "metadata": {},
   "source": [
    "---------"
   ]
  },
  {
   "cell_type": "markdown",
   "metadata": {},
   "source": [
    "2 - Pergunte ao usuário sua idade e, com base nisso, use uma estrutura `if elif else` para classificar a idade em categorias de acordo com as seguintes condições:\n",
    "\n",
    "- Criança: 0 a 12 anos;\n",
    "- Adolescente: 13 a 18 anos;\n",
    "- Adulto: acima de 18 anos."
   ]
  },
  {
   "cell_type": "code",
   "execution_count": 35,
   "metadata": {},
   "outputs": [
    {
     "name": "stdout",
     "output_type": "stream",
     "text": [
      "Um Adulto de 25 anos\n"
     ]
    }
   ],
   "source": [
    "def obter_idade():\n",
    "    \"\"\"\n",
    "    Solicita a idade do usuário e valida a entrada.\n",
    "    Retorna a idade como um inteiro se válida, caso contrário, lança uma exceção.\n",
    "    \"\"\"\n",
    "    idade = input(\"Qual a sua idade:\")\n",
    "    if not idade.isdigit() or int(idade) < 0:\n",
    "        raise ValueError(\"Erro: A idade deve ser um número positivo.\")\n",
    "    idade = int(idade)\n",
    "    if idade > 100:\n",
    "        raise ValueError(\"Erro: A idade deve estar entre 1 e 100.\")\n",
    "    return idade\n",
    "\n",
    "\n",
    "def classifica_idade():\n",
    "    \"\"\"\n",
    "    Classifica a idade do usuário em categorias: Criança, Adolescente, Adulto ou Idoso.\n",
    "    \"\"\"\n",
    "    try:\n",
    "        idade = obter_idade()\n",
    "        if idade <= 12:\n",
    "            print(f\"Uma Crianca de {idade} anos\")\n",
    "        elif idade <= 18:\n",
    "            print(f\"Um(a) Adolescente de {idade} anos\")\n",
    "        elif idade <= 59:\n",
    "            print(f\"Um Adulto de {idade} anos\")\n",
    "        else:\n",
    "            print(f\"Um(a) Idoso(a) de {idade} anos\")\n",
    "    except ValueError as ve:\n",
    "        print(ve)\n",
    "\n",
    "\n",
    "classifica_idade()"
   ]
  },
  {
   "cell_type": "markdown",
   "metadata": {},
   "source": [
    "-----"
   ]
  },
  {
   "cell_type": "markdown",
   "metadata": {},
   "source": [
    "3 - Solicite um nome de usuário e uma senha e use uma estrutura `if else` para verificar se o nome de usuário e a senha fornecidos correspondem aos valores esperados determinados por você."
   ]
  },
  {
   "cell_type": "code",
   "execution_count": 59,
   "metadata": {},
   "outputs": [
    {
     "name": "stdout",
     "output_type": "stream",
     "text": [
      "login realizado com sucesso\n"
     ]
    }
   ],
   "source": [
    "def verifica_senha():\n",
    "    senha_user = input(\"Digite sua senha\")\n",
    "    if not senha_user.isdigit():\n",
    "        raise ValueError(\"Erro: A senha deve ser numerica\")\n",
    "    return int(senha_user)\n",
    "\n",
    "\n",
    "def verifica_usuario():\n",
    "    id_user = input(\"Digite seu nome de usuario\")\n",
    "    if not id_user.isalpha():\n",
    "        raise ValueError(\"Erro: O usuário deve conter apenas letras\")\n",
    "    return id_user\n",
    "\n",
    "\n",
    "def verifica_usuario_senha():\n",
    "    ID_CADASTRADO = \"root\"\n",
    "    SENHA_CADASTRADA = 123456\n",
    "    try:\n",
    "        usuario = verifica_usuario()\n",
    "        senha = verifica_senha()\n",
    "        if usuario == ID_CADASTRADO and senha == SENHA_CADASTRADA:\n",
    "            print(\"login realizado com sucesso\")\n",
    "        else:\n",
    "            print(f\"Falha no login: Usuário ou senha incorretos\")\n",
    "    except ValueError as er:\n",
    "        print(er)\n",
    "\n",
    "\n",
    "verifica_usuario_senha()"
   ]
  },
  {
   "cell_type": "markdown",
   "metadata": {},
   "source": [
    "-----"
   ]
  },
  {
   "cell_type": "markdown",
   "metadata": {},
   "source": [
    "4 - Solicite ao usuário as coordenadas (x, y) de um ponto qualquer e utilize uma estrutura `if elif else` para determinar em qual quadrante do plano cartesiano o ponto se encontra de acordo com as seguintes condições:\n",
    "\n",
    "- Primeiro Quadrante: os valores de x e y devem ser maiores que zero;\n",
    "- Segundo Quadrante: o valor de x é menor que zero e o valor de y é maior que zero;\n",
    "- Terceiro Quadrante: os valores de x e y devem ser menores que zero;\n",
    "- Quarto Quadrante: o valor de x é maior que zero e o valor de y é menor que zero;\n",
    "- Caso contrário: o ponto está localizado no eixo ou origem."
   ]
  },
  {
   "cell_type": "code",
   "execution_count": 1,
   "metadata": {},
   "outputs": [],
   "source": [
    "def obter_coordenadas():\n",
    "    try:\n",
    "        x_coordenada = int(input(\"Digite a coordenada x: \"))\n",
    "    except ValueError:\n",
    "        raise ValueError(\"Erro:  A coordenada x deve ser numérica\")\n",
    "\n",
    "    try:\n",
    "        y_coordenada = int(input(\"Digite a coordenada y: \"))\n",
    "    except ValueError:\n",
    "        raise ValueError(\"Erro:  A coordenada y deve ser numérica\")\n",
    "\n",
    "    return x_coordenada, y_coordenada\n",
    "\n",
    "\n",
    "def verifica_coordenadas():\n",
    "    x, y = obter_coordenadas()\n",
    "\n",
    "    if x > 0 and y > 0:\n",
    "        return \"O ponto esta no primeiro quadrante.\"\n",
    "    elif x < 0 and y > 0:\n",
    "        return \"O ponto esta no segundo quadrante.\"\n",
    "    elif x < 0 and y < 0:\n",
    "        return \"O ponto esta no terceiro quadrante.\"\n",
    "    elif x > 0 and y < 0:\n",
    "        return \"O ponto esta no quarto quadrante.\"\n",
    "    else:\n",
    "        return \"O ponto esta sobre um eixo ou na origem\""
   ]
  },
  {
   "cell_type": "code",
   "execution_count": 2,
   "metadata": {},
   "outputs": [
    {
     "data": {
      "text/plain": [
       "'Primeiro Quadrante: Pois os valores de x e y são maiores que zero'"
      ]
     },
     "execution_count": 2,
     "metadata": {},
     "output_type": "execute_result"
    }
   ],
   "source": [
    "# Teste do primeiro quadrante\n",
    "# x e y = 1\n",
    "verifica_coordenadas()"
   ]
  },
  {
   "cell_type": "code",
   "execution_count": 4,
   "metadata": {},
   "outputs": [
    {
     "data": {
      "text/plain": [
       "'Segundo Quadrante: Pois o valor de x é menor que zero e y é maior que zero'"
      ]
     },
     "execution_count": 4,
     "metadata": {},
     "output_type": "execute_result"
    }
   ],
   "source": [
    "# Teste do segundo quadrante\n",
    "# x = -1 e y = 1\n",
    "verifica_coordenadas()"
   ]
  },
  {
   "cell_type": "code",
   "execution_count": 5,
   "metadata": {},
   "outputs": [
    {
     "data": {
      "text/plain": [
       "'Terceiro Quadrante: Pois os valores de x e y são menores que zero'"
      ]
     },
     "execution_count": 5,
     "metadata": {},
     "output_type": "execute_result"
    }
   ],
   "source": [
    "# Teste do terceiro quadrante\n",
    "# x = -1 e y = -1\n",
    "verifica_coordenadas()"
   ]
  },
  {
   "cell_type": "code",
   "execution_count": 6,
   "metadata": {},
   "outputs": [
    {
     "data": {
      "text/plain": [
       "'Quarto Quadrante: Pois o valor de x é maior que zero e y é menor que zero'"
      ]
     },
     "execution_count": 6,
     "metadata": {},
     "output_type": "execute_result"
    }
   ],
   "source": [
    "# Teste do quarto quadrante\n",
    "# x = 1 e y = -1\n",
    "verifica_coordenadas()"
   ]
  },
  {
   "cell_type": "code",
   "execution_count": 7,
   "metadata": {},
   "outputs": [
    {
     "data": {
      "text/plain": [
       "'O ponto esta localizado no eixo ou origem'"
      ]
     },
     "execution_count": 7,
     "metadata": {},
     "output_type": "execute_result"
    }
   ],
   "source": [
    "#  ponto esta localizado no eixo ou origem\n",
    "# x e y = 0\n",
    "verifica_coordenadas()"
   ]
  },
  {
   "cell_type": "markdown",
   "metadata": {},
   "source": []
  }
 ],
 "metadata": {
  "kernelspec": {
   "display_name": "venv",
   "language": "python",
   "name": "python3"
  },
  "language_info": {
   "codemirror_mode": {
    "name": "ipython",
    "version": 3
   },
   "file_extension": ".py",
   "mimetype": "text/x-python",
   "name": "python",
   "nbconvert_exporter": "python",
   "pygments_lexer": "ipython3",
   "version": "3.12.3"
  }
 },
 "nbformat": 4,
 "nbformat_minor": 2
}
